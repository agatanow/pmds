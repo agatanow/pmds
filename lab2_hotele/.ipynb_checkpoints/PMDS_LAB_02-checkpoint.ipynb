{
 "cells": [
  {
   "cell_type": "markdown",
   "metadata": {},
   "source": [
    "# Analityczny wzór na liczbę par \"osób i dni\":\n",
    "$$ x = {{n}\\choose{2}} \\cdot {{h}\\choose{2}} \\cdot \\Big (p^2 \\cdot \\frac{1}{d} \\Big )^2 $$\n",
    "gdzie:\n",
    "* $x$ - liczba podejrzanych par \"osób i dni\",\n",
    "* $n$ - liczba osób,\n",
    "* $p$ - prawdopodobieństwo przenocowania w hotelu,\n",
    "* $h$ - liczba hoteli,\n",
    "* $d$ - liczba dni."
   ]
  },
  {
   "cell_type": "code",
   "execution_count": 35,
   "metadata": {},
   "outputs": [
    {
     "data": {
      "text/plain": [
       "2474.752500000001"
      ]
     },
     "execution_count": 35,
     "metadata": {},
     "output_type": "execute_result"
    }
   ],
   "source": [
    "from math import factorial\n",
    "def expected_results(n, p, h, d):\n",
    "    ncr = lambda n,r: factorial(n) // factorial(r) // factorial(n - r)\n",
    "    return ncr(n, 2) * ncr(h, 2) * (p**2 * 1/d)**2\n",
    "\n",
    "expected_results(10**4, 0.1, 10**2, 10**2)"
   ]
  },
  {
   "cell_type": "markdown",
   "metadata": {},
   "source": [
    "# Implementacja symulacji i analizy wyników:"
   ]
  },
  {
   "cell_type": "code",
   "execution_count": 37,
   "metadata": {},
   "outputs": [
    {
     "name": "stdout",
     "output_type": "stream",
     "text": [
      "{'pairs_number': 2484, 'pairs_days_number': 2492, 'people_number': 3660, 'histogram': {1: 489658, 2: 2480, 3: 4}}\n"
     ]
    }
   ],
   "source": [
    "from itertools import combinations\n",
    "from math import factorial\n",
    "from random import random\n",
    "from random import randrange\n",
    "\n",
    "'''\n",
    "Parametry wejściowe:\n",
    "(int)   n - liczba osób\n",
    "(float) p - prawdobodobieństwo przenocowania w hotelu\n",
    "(int)   h - liczba hoteli\n",
    "(int)   d - liczba dni\n",
    "'''\n",
    "\n",
    "def simulate(n, p, h, d):\n",
    "    pair_map = dict()\n",
    "    for day in range(d):\n",
    "        hotel_map = dict()\n",
    "        for person in range(n):\n",
    "            if (random() < p):\n",
    "                hotel = randrange(0, h)\n",
    "                if (hotel not in hotel_map):\n",
    "                    hotel_map[hotel] = [person]\n",
    "                else:\n",
    "                    hotel_map[hotel].append(person)\n",
    "        for hotel, hotel_guests in hotel_map.items():\n",
    "            for pair in combinations(hotel_guests, 2):\n",
    "                if (pair not in pair_map):\n",
    "                    pair_map[pair] = 1\n",
    "                else:\n",
    "                    pair_map[pair] += 1\n",
    "    return pair_map\n",
    "\n",
    "def analyze(pair_map):\n",
    "    results = {'pairs_number': 0, 'pairs_days_number': 0,\n",
    "               'people_number': 0, 'histogram': dict()}\n",
    "    suspected_set = set()\n",
    "    #n coose r function\n",
    "    ncr = lambda n,r: factorial(n) // factorial(r) // factorial(n - r)\n",
    "\n",
    "    for pair, days_number in pair_map.items():\n",
    "        if days_number >= 2:\n",
    "            results['pairs_number'] += 1\n",
    "            suspected_set.add(pair[0])\n",
    "            suspected_set.add(pair[1])\n",
    "            pair_days = ncr(days_number, 2)\n",
    "            results['pairs_days_number'] += pair_days\n",
    "        if (days_number not in results['histogram']):\n",
    "            results['histogram'][days_number] = 1\n",
    "        else:\n",
    "            results['histogram'][days_number] += 1\n",
    "    results['people_number'] = len(suspected_set)\n",
    "    return results\n",
    "\n",
    "#example run\n",
    "result = simulate(10 ** 4, 0.1, 10 ** 2, 10 ** 2)\n",
    "print(analyze(result))      "
   ]
  },
  {
   "cell_type": "markdown",
   "metadata": {},
   "source": [
    "# Wielokrotne przeprowadzenie symulacji i uśrednienie wyników:"
   ]
  },
  {
   "cell_type": "code",
   "execution_count": 40,
   "metadata": {},
   "outputs": [
    {
     "name": "stdout",
     "output_type": "stream",
     "text": [
      "{'pairs_number': 2458, 'pairs_days_number': 2478, 'people_number': 3628, 'histogram': {1: 492350, 2: 2448, 3: 10}}\n",
      "{'pairs_number': 2423, 'pairs_days_number': 2431, 'people_number': 3609, 'histogram': {1: 495864, 2: 2419, 3: 4}}\n",
      "{'pairs_number': 2435, 'pairs_days_number': 2451, 'people_number': 3646, 'histogram': {1: 495203, 2: 2427, 3: 8}}\n",
      "{'pairs_number': 2405, 'pairs_days_number': 2425, 'people_number': 3559, 'histogram': {1: 492285, 2: 2395, 3: 10}}\n",
      "{'pairs_number': 2519, 'pairs_days_number': 2539, 'people_number': 3717, 'histogram': {1: 497275, 2: 2509, 3: 10}}\n",
      "{'pairs_number': 2597, 'pairs_days_number': 2615, 'people_number': 3765, 'histogram': {1: 497204, 2: 2588, 3: 9}}\n",
      "{'pairs_number': 2481, 'pairs_days_number': 2495, 'people_number': 3643, 'histogram': {1: 498774, 2: 2474, 3: 7}}\n",
      "{'pairs_number': 2459, 'pairs_days_number': 2473, 'people_number': 3644, 'histogram': {1: 498433, 2: 2452, 3: 7}}\n",
      "{'pairs_number': 2434, 'pairs_days_number': 2446, 'people_number': 3626, 'histogram': {1: 495626, 2: 2428, 3: 6}}\n",
      "{'pairs_number': 2300, 'pairs_days_number': 2310, 'people_number': 3506, 'histogram': {1: 495585, 2: 2295, 3: 5}}\n",
      "Avarage of 10 runs:  {'pairs_number': 2451, 'pairs_days_number': 2466, 'people_number': 3634, 'histogram': {1: 495859, 2: 2443, 3: 7}}\n"
     ]
    }
   ],
   "source": [
    "#helper functions\n",
    "def add_pair_maps(first, second):\n",
    "    result = {'pairs_number':      first['pairs_number'] + second['pairs_number'], \n",
    "              'pairs_days_number': first['pairs_days_number'] + second['pairs_days_number'],\n",
    "              'people_number':     first['people_number'] + second['people_number'],\n",
    "              'histogram': dict()}\n",
    "    for key, value in first['histogram'].items():\n",
    "        result['histogram'][key] = value\n",
    "    for key, value in second['histogram'].items():\n",
    "        if key in result['histogram']:\n",
    "            result['histogram'][key] += value\n",
    "        else:\n",
    "            result['histogram'][key] = value\n",
    "    return result\n",
    "\n",
    "def calc_avarage(results_sum, times):\n",
    "    result = {'pairs_number':  results_sum['pairs_number'] // times, \n",
    "          'pairs_days_number': results_sum['pairs_days_number'] // times,\n",
    "          'people_number':     results_sum['people_number'] // times,\n",
    "          'histogram': dict()}\n",
    "    for key, value in results_sum['histogram'].items():\n",
    "        result['histogram'][key] = value // times\n",
    "    return result\n",
    "\n",
    "\n",
    "#run several times and avarage results\n",
    "times = 10\n",
    "n = 10 ** 4\n",
    "p = 0.1\n",
    "h = 10 ** 2\n",
    "d = 10 ** 2\n",
    "\n",
    "all_res = {'pairs_number': 0, 'pairs_days_number': 0,\n",
    "           'people_number': 0, 'histogram': dict()}\n",
    "\n",
    "for x in range(times):\n",
    "    result = simulate(n, p, h, d)\n",
    "    res = analyze(result)\n",
    "    print(res)\n",
    "    all_res = add_pair_maps(all_res, res)\n",
    "print('Avarage of {} runs: '.format(times), calc_avarage(all_res, times))\n",
    "    \n"
   ]
  },
  {
   "cell_type": "markdown",
   "metadata": {},
   "source": [
    "# Odpowiedzi na pytania:  \n",
    "* Jak bardzo różnią się od siebie liczba par “osób i dni” oraz liczba podejrzanych par osób? Czy przybliżone obliczenia korzystające ze wzoru analitycznego są poprawne?  \n",
    "  \n",
    "  Odp. Liczba par \"osób i dni\" jest zawsze większa od liczby podejrzanych par osób, ponieważ uwzględnia również różne kombinacje dwóch dni spotkania dla par, które spotkały się więcej niż 2 razy. Przybliżone obliczenia korzystające ze wzoru analitycznego zgadzają się z wynikami symulacji.\n",
    "  \n",
    "  \n",
    "* Jak dużo jest par osób, które spotkały się w więcej niż w 2 dni? Dlaczego tak jest?  \n",
    "  \n",
    "  Odp. Par osób, które spotkały się więcej niż w 2 dni jest bardzo niewiele, wynika to z bardzo małego prawdopodobieństwa (dwie osoby muszą wybrać się w co najmniej 3 te same dni do tych samych hoteli).\n",
    "  \n",
    "  \n",
    "* Jaka jest minimalna i maksymalna liczba podejrzanych osób, znając liczbę podejrzanych par osób?  \n",
    "  \n",
    "  Odp. Znając liczbę podejrzanych par osób - $x$, można wyznaczyć minimalną i maksymalną liczbę podejrzanych osób korzystając ze wzorów:  \n",
    "  \n",
    "  $$ y_{max} = 2 \\cdot x $$  \n",
    "  $$ y_{min} =  \\Bigg \\lceil \\frac{1 + \\sqrt{8x +1}}{2} \\Bigg \\rceil$$\n",
    "  gdzie:\n",
    "  * $y_{max}$ - maksymalna liczba podejrzanych osób,  \n",
    "  * $y_{min}$ - minimalna liczba podejrzanych osób. Wzór na $y_{min}$ został wyprowadzony ze wzoru na kombinacje bez powtórzeń.\n",
    "  "
   ]
  },
  {
   "cell_type": "code",
   "execution_count": null,
   "metadata": {},
   "outputs": [],
   "source": []
  }
 ],
 "metadata": {
  "kernelspec": {
   "display_name": "Python 3",
   "language": "python",
   "name": "python3"
  },
  "language_info": {
   "codemirror_mode": {
    "name": "ipython",
    "version": 3
   },
   "file_extension": ".py",
   "mimetype": "text/x-python",
   "name": "python",
   "nbconvert_exporter": "python",
   "pygments_lexer": "ipython3",
   "version": "3.6.7"
  }
 },
 "nbformat": 4,
 "nbformat_minor": 2
}
