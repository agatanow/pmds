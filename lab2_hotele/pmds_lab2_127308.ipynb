{
 "cells": [
  {
   "cell_type": "markdown",
   "metadata": {},
   "source": [
    "# PMDS - zad.dom lab. 2\n",
    "## Wszechobecni terroryści – rozwiązanie poprzez symulację\n",
    "\n",
    "\n",
    "#### Import używanych funkcji i implementacja funkcji pomocniczych"
   ]
  },
  {
   "cell_type": "code",
   "execution_count": 1,
   "metadata": {},
   "outputs": [],
   "source": [
    "from random import randint\n",
    "from random import random\n",
    "from itertools import combinations\n",
    "from math import factorial\n",
    "from math import ceil\n",
    "from math import sqrt\n",
    "from collections import Counter\n",
    "\n",
    "\n",
    "'''Binomial coefficient'''\n",
    "def binom(n,k):\n",
    "    if n == k:\n",
    "        return 1\n",
    "    elif k == 1:\n",
    "        return n\n",
    "    elif k > n:  \n",
    "        return 0\n",
    "    else:            \n",
    "        return factorial(n) // (factorial(k) * factorial(n-k))    "
   ]
  },
  {
   "cell_type": "markdown",
   "metadata": {},
   "source": [
    "### Podejście symulacyjne\n",
    "#### Parametry symulacji"
   ]
  },
  {
   "cell_type": "code",
   "execution_count": 2,
   "metadata": {},
   "outputs": [],
   "source": [
    "'''Number of people'''\n",
    "n  = 10000\n",
    "'''Probability of staying over the night in a hotel'''\n",
    "p  = 0.1\n",
    "'''Number of hotels'''\n",
    "nh = 100\n",
    "'''Number of days'''\n",
    "nd = 100\n",
    "'''Number of simulation repetitons'''\n",
    "repeat = 50"
   ]
  },
  {
   "cell_type": "markdown",
   "metadata": {},
   "source": [
    "#### Implementacja funkcji symulującej"
   ]
  },
  {
   "cell_type": "code",
   "execution_count": 3,
   "metadata": {},
   "outputs": [],
   "source": [
    "'''\n",
    "Make a simulation\n",
    "\n",
    ":param n:  number of people\n",
    ":param p:  probability of staying over the night in a hotel\n",
    ":param nh: number of hotels\n",
    ":param nd: number of days\n",
    ":returns: dictionary of couples and the times they met\n",
    "'''\n",
    "def simulate(n, p, nh, nd):\n",
    "    couples = {}\n",
    "    for day in range(nd):\n",
    "        #create new clean hotel clients list\n",
    "        hotel_clients={}\n",
    "        for person in range(n):\n",
    "            #if the person goes to a hotel\n",
    "            if random()<p:\n",
    "                #person goes to hotel clients list\n",
    "                hotel_id = randint(0, nh)\n",
    "                if hotel_id not in hotel_clients:\n",
    "                    hotel_clients[hotel_id] = [person]\n",
    "                else: \n",
    "                    hotel_clients[hotel_id].append(person)\n",
    "                    \n",
    "        #daily couples dictionary update\n",
    "        for clients in hotel_clients.items():\n",
    "            #for every couple from the hotel\n",
    "            for couple in combinations(clients[1],2):\n",
    "                if couple not in couples:\n",
    "                    couples[couple] = 1\n",
    "                else: \n",
    "                    couples[couple] += 1\n",
    "    return couples \n"
   ]
  },
  {
   "cell_type": "markdown",
   "metadata": {},
   "source": [
    "#### Funkcje do obliczania wyników z symulacji"
   ]
  },
  {
   "cell_type": "code",
   "execution_count": 4,
   "metadata": {},
   "outputs": [],
   "source": [
    "'''\n",
    "Counts the number of suspected couples\n",
    "based on simulation results\n",
    "\n",
    ":param hist: dictionary containing histogram data\n",
    ":returns: the number of suspected couples\n",
    "'''\n",
    "def count_couples(hist):\n",
    "    return sum(nr for met, nr in hist.items() if met >= 2)\n",
    "\n",
    "'''\n",
    "Counts the number of suspected couples and days\n",
    "based on simulation results\n",
    "\n",
    ":param hist: dictionary containing histogram data\n",
    ":returns: the number of suspected couples and days\n",
    "'''\n",
    "def count_couples_days(hist):\n",
    "    return int(sum(nr * binom(met,2) for met, nr in hist.items() if met >= 2))\n",
    "\n",
    "\n",
    "'''\n",
    "Counts the number of suspected people\n",
    "based on simulation results\n",
    "\n",
    ":param couples: dictionary of couples and the times they met\n",
    ":returns: the number of suspected people\n",
    "'''\n",
    "def count_suspected_ppl(couples):\n",
    "    suspected = set()\n",
    "    for couple, met in couples.items():\n",
    "        if met >= 2:\n",
    "            suspected.update(couple)\n",
    "    return len(suspected)\n",
    "        "
   ]
  },
  {
   "cell_type": "markdown",
   "metadata": {},
   "source": [
    "#### Powtórzenie symulacji i obliczenie wartości wynikowych\n"
   ]
  },
  {
   "cell_type": "code",
   "execution_count": 5,
   "metadata": {},
   "outputs": [],
   "source": [
    "histogram = {}\n",
    "suspected_couples = 0\n",
    "suspected_couples_days= 0\n",
    "suspected_ppl = 0\n",
    "for r in range(repeat):\n",
    "    couples = simulate(n, p, nh, nd)\n",
    "    hist = dict(Counter(couples.values()))\n",
    "    histogram = dict(Counter(histogram) + Counter(hist))\n",
    "    suspected_couples += count_couples(hist)\n",
    "    suspected_couples_days += count_couples_days(hist)\n",
    "    suspected_ppl += count_suspected_ppl(couples)\n",
    "histogram = {k: v/repeat for k, v in histogram.items()}\n",
    "suspected_couples /= repeat\n",
    "suspected_couples_days /= repeat\n",
    "suspected_ppl /= repeat"
   ]
  },
  {
   "cell_type": "markdown",
   "metadata": {},
   "source": [
    "### Podejście analityczne\n",
    "Wzór na liczbę podejrzanych par \"osób i dni\"\n",
    "$${{n}\\choose{2}} \\cdot {{n_d}\\choose{2}} \\cdot \\Big (p^2 \\cdot \\frac{1}{n_h} \\Big )^2 $$\n",
    "\n",
    "Wzór na liczbę podejrzanych par osób\n",
    "$${{n}\\choose{2}} \\cdot {{n_d}\\choose{2}} \\cdot \\Big (p^2 \\cdot \\frac{1}{n_h} \\Big )^2 $$\n",
    "\n",
    "#### Funkcje do obliczania wyników podejścia analitycznego"
   ]
  },
  {
   "cell_type": "code",
   "execution_count": 11,
   "metadata": {},
   "outputs": [],
   "source": [
    "'''\n",
    "Counts the number of suspected couples and days\n",
    "based on alaytical approach\n",
    "\n",
    ":param n:  number of people\n",
    ":param p:  probability of staying over the night in a hotel\n",
    ":param nh: number of hotels\n",
    ":param nd: number of days\n",
    ":returns: the number of suspected couples and days\n",
    "'''\n",
    "def count_couples_days_anal(n, p, nh, nd):\n",
    "    return binom(n,2) * binom(nd,2) * (p**2/nh)**2\n",
    "\n",
    "\n",
    "suspected_couples_days_anal = count_couples_days_anal(n, p, nh, nd)"
   ]
  },
  {
   "cell_type": "markdown",
   "metadata": {},
   "source": [
    "## Odpowiedzi\n",
    "### 1. Liczba podejrzanych par “osób i dni” oraz liczba podejrzanych par osób.\n"
   ]
  },
  {
   "cell_type": "code",
   "execution_count": 12,
   "metadata": {},
   "outputs": [
    {
     "name": "stdout",
     "output_type": "stream",
     "text": [
      "Obliczone symulacyjnie:\n",
      "Liczba podejrzanych par osób:  2414.54\n",
      "Liczba podejrzanych par osób i dni:  2429.6\n",
      "\n",
      "Obliczone analitycznie:\n",
      "Liczba podejrzanych par osób i dni:  2474.752500000001\n"
     ]
    }
   ],
   "source": [
    "print(\"Obliczone symulacyjnie:\")\n",
    "print(\"Liczba podejrzanych par osób: \", suspected_couples )\n",
    "print(\"Liczba podejrzanych par osób i dni: \", suspected_couples_days )\n",
    "\n",
    "print(\"\\nObliczone analitycznie:\")\n",
    "print(\"Liczba podejrzanych par osób i dni: \", suspected_couples_days_anal )\n"
   ]
  },
  {
   "cell_type": "markdown",
   "metadata": {},
   "source": [
    "#### Jak bardzo różnią się te wartości od siebie? Czy przybliżone obliczenia korzystające ze wzoru analitycznego są poprawne?\n",
    "Liczba podejrzanych par osób jest zawsze mniejsza od liczba podejrzanych par osób i dni. Wartość liczby podejrzanych par osób i dni uwzględnia również kombinacje dni spotkań osób, które widziały się więcej niż dwa razy, stąd ta wartość jest większa. Wielkości te niewiele się od siebie różnią, ponieważ par osób, które spotkały się ze sobą więcej niż 2 razy jest niewiele, zatem samych kombinacji par dni też nie jest dużo.\n",
    "\n",
    "Przybliżone obliczenia korzystające ze wzoru analitycznego są poprawne.\n",
    "\n",
    "### 2. Histogram ilustrujący liczbę par osób do liczby dni, w których się spotkały"
   ]
  },
  {
   "cell_type": "code",
   "execution_count": 8,
   "metadata": {},
   "outputs": [
    {
     "name": "stdout",
     "output_type": "stream",
     "text": [
      "{1: 489791.56, 2: 2407.04, 3: 7.48, 4: 0.02}\n"
     ]
    }
   ],
   "source": [
    "print(histogram)"
   ]
  },
  {
   "cell_type": "markdown",
   "metadata": {},
   "source": [
    "#### Jak dużo jest par osób, które spotkały się w więcej niż w 2 dni? Dlaczego tak jest?\n",
    "\n",
    "Liczba par osób, które spotkały się w więcej niż 3 dni jest bardzo mała. Dzieje się tak dlatego, że prawdopodopieństwo spotkania się 2 osób w tych samych hotelach w trzy różne dni w przeciągu 100 dni jest bardzo małe.\n",
    "\n",
    "\n",
    "### 3. Liczba podejrzanych osób. "
   ]
  },
  {
   "cell_type": "code",
   "execution_count": 9,
   "metadata": {},
   "outputs": [
    {
     "name": "stdout",
     "output_type": "stream",
     "text": [
      "Liczba podejrzanych osób:  3582.36\n"
     ]
    }
   ],
   "source": [
    "print(\"Liczba podejrzanych osób: \", suspected_ppl )"
   ]
  },
  {
   "cell_type": "markdown",
   "metadata": {},
   "source": [
    "\n",
    "#### Jaka jest minimalna i maksymalna liczba podejrzanych osób, znając liczbę podejrzanych par osób?\n",
    "$ n_c $ - liczba podejrzanych par \n",
    "\n",
    "$ m_{min} $ - minimalna liczba podejrzanych osób\n",
    "\n",
    "$ m_{max} $ - maksymalna liczba podejrzanych osób\n",
    "\n",
    "Maksymalna liczba podejrzanych osób -  w każdej parze są różne osoby:\n",
    " $$ m_{max} = 2 \\cdot n_c $$\n",
    " \n",
    "Maksymalna liczba podejrzanych osób - zbiór osób, z których tworzone są pary jest jak najmniejszy:\n",
    " $$ m_{min} = min~~x: {{x}\\choose{2}}  \\geq n_c $$\n",
    " $$ {{x}\\choose{2}} = \\frac{x!}{2! \\cdot (x-2)!} = \\frac{x \\cdot (x-1)}{2}$$\n",
    " $$ m_{min} = min~~x: x^2 - x - 2n_c \\geq 0$$\n",
    " $$ m_{min} =\\Bigg \\lceil \\frac{1+\\sqrt{8n_c+1}}{2} \\Bigg \\rceil $$"
   ]
  },
  {
   "cell_type": "code",
   "execution_count": 10,
   "metadata": {},
   "outputs": [
    {
     "name": "stdout",
     "output_type": "stream",
     "text": [
      "Maksymalna liczba podejrzanych osób:  4829.08\n",
      "Minimalna liczba podejrzanych osób:  70\n"
     ]
    }
   ],
   "source": [
    "m_max = 2 * suspected_couples\n",
    "m_min = ceil((1+sqrt(8 * suspected_couples + 1))/2)\n",
    "print(\"Maksymalna liczba podejrzanych osób: \", m_max)\n",
    "print(\"Minimalna liczba podejrzanych osób: \", m_min)"
   ]
  },
  {
   "cell_type": "code",
   "execution_count": null,
   "metadata": {},
   "outputs": [],
   "source": []
  }
 ],
 "metadata": {
  "kernelspec": {
   "display_name": "Python 3",
   "language": "python",
   "name": "python3"
  },
  "language_info": {
   "codemirror_mode": {
    "name": "ipython",
    "version": 3
   },
   "file_extension": ".py",
   "mimetype": "text/x-python",
   "name": "python",
   "nbconvert_exporter": "python",
   "pygments_lexer": "ipython3",
   "version": "3.6.7"
  }
 },
 "nbformat": 4,
 "nbformat_minor": 2
}
